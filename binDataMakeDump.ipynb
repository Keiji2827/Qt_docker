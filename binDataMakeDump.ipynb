{
  "nbformat": 4,
  "nbformat_minor": 0,
  "metadata": {
    "colab": {
      "name": "sample.ipynb",
      "version": "0.3.2",
      "provenance": [],
      "collapsed_sections": [],
      "include_colab_link": true
    },
    "kernelspec": {
      "name": "python3",
      "display_name": "Python 3"
    },
    "accelerator": "GPU"
  },
  "cells": [
    {
      "cell_type": "markdown",
      "metadata": {
        "id": "view-in-github",
        "colab_type": "text"
      },
      "source": [
        "<a href=\"https://colab.research.google.com/github/Keiji2827/Qt_docker/blob/master/binDataMakeDump.ipynb\" target=\"_parent\"><img src=\"https://colab.research.google.com/assets/colab-badge.svg\" alt=\"Open In Colab\"/></a>"
      ]
    },
    {
      "metadata": {
        "id": "WILMQnFpT-4k",
        "colab_type": "code",
        "outputId": "096f9cd9-bbb8-495b-f3bb-ac8b398b5022",
        "colab": {
          "base_uri": "https://localhost:8080/",
          "height": 51
        }
      },
      "cell_type": "code",
      "source": [
        "!pip install -U -q PyDrive\n",
        "\n",
        "from pydrive.auth import GoogleAuth\n",
        "from pydrive.drive import GoogleDrive\n",
        "from google.colab import auth\n",
        "from oauth2client.client import GoogleCredentials\n",
        "\n",
        "auth.authenticate_user()\n",
        "gauth = GoogleAuth()\n",
        "gauth.credentials = GoogleCredentials.get_application_default()\n",
        "drive = GoogleDrive(gauth)"
      ],
      "execution_count": 0,
      "outputs": [
        {
          "output_type": "stream",
          "text": [
            "\u001b[?25l\r\u001b[K    1% |▎                               | 10kB 16.7MB/s eta 0:00:01\r\u001b[K    2% |▋                               | 20kB 3.3MB/s eta 0:00:01\r\u001b[K    3% |█                               | 30kB 4.7MB/s eta 0:00:01\r\u001b[K    4% |█▎                              | 40kB 3.0MB/s eta 0:00:01\r\u001b[K    5% |█▋                              | 51kB 3.7MB/s eta 0:00:01\r\u001b[K    6% |██                              | 61kB 4.4MB/s eta 0:00:01\r\u001b[K    7% |██▎                             | 71kB 5.0MB/s eta 0:00:01\r\u001b[K    8% |██▋                             | 81kB 5.6MB/s eta 0:00:01\r\u001b[K    9% |███                             | 92kB 6.3MB/s eta 0:00:01\r\u001b[K    10% |███▎                            | 102kB 4.9MB/s eta 0:00:01\r\u001b[K    11% |███▋                            | 112kB 4.9MB/s eta 0:00:01\r\u001b[K    12% |████                            | 122kB 6.7MB/s eta 0:00:01\r\u001b[K    13% |████▎                           | 133kB 6.7MB/s eta 0:00:01\r\u001b[K    14% |████▋                           | 143kB 12.1MB/s eta 0:00:01\r\u001b[K    15% |█████                           | 153kB 12.2MB/s eta 0:00:01\r\u001b[K    16% |█████▎                          | 163kB 12.2MB/s eta 0:00:01\r\u001b[K    17% |█████▋                          | 174kB 11.9MB/s eta 0:00:01\r\u001b[K    18% |██████                          | 184kB 12.0MB/s eta 0:00:01\r\u001b[K    19% |██████▎                         | 194kB 12.0MB/s eta 0:00:01\r\u001b[K    20% |██████▋                         | 204kB 40.6MB/s eta 0:00:01\r\u001b[K    21% |███████                         | 215kB 14.2MB/s eta 0:00:01\r\u001b[K    22% |███████▎                        | 225kB 14.3MB/s eta 0:00:01\r\u001b[K    23% |███████▋                        | 235kB 14.5MB/s eta 0:00:01\r\u001b[K    24% |████████                        | 245kB 14.4MB/s eta 0:00:01\r\u001b[K    25% |████████▎                       | 256kB 14.5MB/s eta 0:00:01\r\u001b[K    26% |████████▋                       | 266kB 13.7MB/s eta 0:00:01\r\u001b[K    27% |█████████                       | 276kB 14.1MB/s eta 0:00:01\r\u001b[K    29% |█████████▎                      | 286kB 14.1MB/s eta 0:00:01\r\u001b[K    30% |█████████▋                      | 296kB 14.0MB/s eta 0:00:01\r\u001b[K    31% |██████████                      | 307kB 14.3MB/s eta 0:00:01\r\u001b[K    32% |██████████▎                     | 317kB 42.8MB/s eta 0:00:01\r\u001b[K    33% |██████████▋                     | 327kB 42.1MB/s eta 0:00:01\r\u001b[K    34% |███████████                     | 337kB 41.6MB/s eta 0:00:01\r\u001b[K    35% |███████████▎                    | 348kB 38.1MB/s eta 0:00:01\r\u001b[K    36% |███████████▋                    | 358kB 38.2MB/s eta 0:00:01\r\u001b[K    37% |████████████                    | 368kB 45.1MB/s eta 0:00:01\r\u001b[K    38% |████████████▎                   | 378kB 46.2MB/s eta 0:00:01\r\u001b[K    39% |████████████▋                   | 389kB 46.5MB/s eta 0:00:01\r\u001b[K    40% |█████████████                   | 399kB 18.3MB/s eta 0:00:01\r\u001b[K    41% |█████████████▎                  | 409kB 17.9MB/s eta 0:00:01\r\u001b[K    42% |█████████████▋                  | 419kB 18.0MB/s eta 0:00:01\r\u001b[K    43% |██████████████                  | 430kB 18.0MB/s eta 0:00:01\r\u001b[K    44% |██████████████▎                 | 440kB 18.2MB/s eta 0:00:01\r\u001b[K    45% |██████████████▋                 | 450kB 18.5MB/s eta 0:00:01\r\u001b[K    46% |███████████████                 | 460kB 18.4MB/s eta 0:00:01\r\u001b[K    47% |███████████████▎                | 471kB 18.5MB/s eta 0:00:01\r\u001b[K    48% |███████████████▋                | 481kB 18.5MB/s eta 0:00:01\r\u001b[K    49% |████████████████                | 491kB 18.6MB/s eta 0:00:01\r\u001b[K    50% |████████████████▎               | 501kB 48.9MB/s eta 0:00:01\r\u001b[K    51% |████████████████▋               | 512kB 48.5MB/s eta 0:00:01\r\u001b[K    52% |█████████████████               | 522kB 48.9MB/s eta 0:00:01\r\u001b[K    53% |█████████████████▎              | 532kB 49.9MB/s eta 0:00:01\r\u001b[K    54% |█████████████████▋              | 542kB 49.0MB/s eta 0:00:01\r\u001b[K    55% |██████████████████              | 552kB 52.3MB/s eta 0:00:01\r\u001b[K    57% |██████████████████▎             | 563kB 52.1MB/s eta 0:00:01\r\u001b[K    58% |██████████████████▋             | 573kB 49.4MB/s eta 0:00:01\r\u001b[K    59% |███████████████████             | 583kB 49.7MB/s eta 0:00:01\r\u001b[K    60% |███████████████████▎            | 593kB 49.5MB/s eta 0:00:01\r\u001b[K    61% |███████████████████▋            | 604kB 50.1MB/s eta 0:00:01\r\u001b[K    62% |████████████████████            | 614kB 53.9MB/s eta 0:00:01\r\u001b[K    63% |████████████████████▎           | 624kB 52.4MB/s eta 0:00:01\r\u001b[K    64% |████████████████████▋           | 634kB 51.7MB/s eta 0:00:01\r\u001b[K    65% |█████████████████████           | 645kB 50.3MB/s eta 0:00:01\r\u001b[K    66% |█████████████████████▎          | 655kB 49.9MB/s eta 0:00:01\r\u001b[K    67% |█████████████████████▋          | 665kB 39.9MB/s eta 0:00:01\r\u001b[K    68% |██████████████████████          | 675kB 26.2MB/s eta 0:00:01\r\u001b[K    69% |██████████████████████▎         | 686kB 25.9MB/s eta 0:00:01\r\u001b[K    70% |██████████████████████▋         | 696kB 25.8MB/s eta 0:00:01\r\u001b[K    71% |███████████████████████         | 706kB 25.6MB/s eta 0:00:01\r\u001b[K    72% |███████████████████████▎        | 716kB 25.5MB/s eta 0:00:01\r\u001b[K    73% |███████████████████████▋        | 727kB 25.7MB/s eta 0:00:01\r\u001b[K    74% |████████████████████████        | 737kB 25.5MB/s eta 0:00:01\r\u001b[K    75% |████████████████████████▎       | 747kB 26.2MB/s eta 0:00:01\r\u001b[K    76% |████████████████████████▋       | 757kB 26.2MB/s eta 0:00:01\r\u001b[K    77% |████████████████████████▉       | 768kB 30.4MB/s eta 0:00:01\r\u001b[K    78% |█████████████████████████▏      | 778kB 52.7MB/s eta 0:00:01\r\u001b[K    79% |█████████████████████████▌      | 788kB 53.4MB/s eta 0:00:01\r\u001b[K    80% |█████████████████████████▉      | 798kB 53.3MB/s eta 0:00:01\r\u001b[K    81% |██████████████████████████▏     | 808kB 52.4MB/s eta 0:00:01\r\u001b[K    82% |██████████████████████████▌     | 819kB 52.0MB/s eta 0:00:01\r\u001b[K    83% |██████████████████████████▉     | 829kB 52.9MB/s eta 0:00:01\r\u001b[K    85% |███████████████████████████▏    | 839kB 53.7MB/s eta 0:00:01\r\u001b[K    86% |███████████████████████████▌    | 849kB 52.3MB/s eta 0:00:01\r\u001b[K    87% |███████████████████████████▉    | 860kB 47.6MB/s eta 0:00:01\r\u001b[K    88% |████████████████████████████▏   | 870kB 47.7MB/s eta 0:00:01\r\u001b[K    89% |████████████████████████████▌   | 880kB 48.3MB/s eta 0:00:01\r\u001b[K    90% |████████████████████████████▉   | 890kB 48.9MB/s eta 0:00:01\r\u001b[K    91% |█████████████████████████████▏  | 901kB 49.4MB/s eta 0:00:01\r\u001b[K    92% |█████████████████████████████▌  | 911kB 50.4MB/s eta 0:00:01\r\u001b[K    93% |█████████████████████████████▉  | 921kB 50.1MB/s eta 0:00:01\r\u001b[K    94% |██████████████████████████████▏ | 931kB 50.3MB/s eta 0:00:01\r\u001b[K    95% |██████████████████████████████▌ | 942kB 51.0MB/s eta 0:00:01\r\u001b[K    96% |██████████████████████████████▉ | 952kB 52.1MB/s eta 0:00:01\r\u001b[K    97% |███████████████████████████████▏| 962kB 58.5MB/s eta 0:00:01\r\u001b[K    98% |███████████████████████████████▌| 972kB 58.2MB/s eta 0:00:01\r\u001b[K    99% |███████████████████████████████▉| 983kB 56.2MB/s eta 0:00:01\r\u001b[K    100% |████████████████████████████████| 993kB 18.6MB/s \n",
            "\u001b[?25h  Building wheel for PyDrive (setup.py) ... \u001b[?25ldone\n",
            "\u001b[?25h"
          ],
          "name": "stdout"
        }
      ]
    },
    {
      "metadata": {
        "id": "-tO5UnHVTSYF",
        "colab_type": "code",
        "colab": {}
      },
      "cell_type": "code",
      "source": [
        "path = \"./data.txt\"\n",
        "\n",
        "BLKS = 0xff\n",
        "SIZE = 0xc # 0,4,8,cのみ\n",
        "\n",
        "s = \"\"\n",
        "A = 0\n",
        "for i in range(BLKS):\n",
        "  if (A%SIZE == 0):\n",
        "    A = 0\n",
        "  for l in range(int(SIZE/4)):\n",
        "    for j in range(0x4):\n",
        "      s = s + format(A,\"02x\") + format(int(i),\"02x\") + \" \"\n",
        "      A+=1\n",
        "    s = s + \"\\n\"\n",
        "\n",
        "\n",
        "\n",
        "print(s)\n",
        "\n",
        "with open(path,\"w\") as f:\n",
        "  f.write(s)"
      ],
      "execution_count": 0,
      "outputs": []
    },
    {
      "metadata": {
        "id": "vxUSw4qm7eSf",
        "colab_type": "code",
        "colab": {
          "base_uri": "https://localhost:8080/",
          "height": 561
        },
        "outputId": "48783485-f936-4896-a73f-f88c61fbf257"
      },
      "cell_type": "code",
      "source": [
        "path = \"./data.txt\"\n",
        "\n",
        "MAX = 0xf\n",
        "SIZE = 0xc\n",
        "#DISP = [[],[]]\n",
        "DISP = [[0],[5,6],[0,1,4]]\n",
        "\n",
        "with open(path,\"r\") as f:\n",
        "  s = f.read()\n",
        "\n",
        "print([len(v) for v in DISP])\n",
        "\n",
        "for i in range(MAX):\n",
        "  if(i == MAX -1):\n",
        "     print(\"Last\")\n",
        "  c = \"\"\n",
        "\n",
        "  #blks = s[i*(SIZE*5+3):(i+1)*(SIZE*5+3) - 2]\n",
        "  for j in range(int(SIZE/4)):\n",
        "    for k in range(4):\n",
        "      st = i*(SIZE*5+3) + j*(5*4+1) + k*5\n",
        "      byte = s[st:st+4]\n",
        "\n",
        "      for n in DISP[1]:\n",
        "        if(n == j*4+k):\n",
        "          #print(int(byte,16),end=\"\")\n",
        "          c = c + str(byte)\n",
        "#        print(\"0x\"+c,end=\"\")\n",
        "    #print()\n",
        "  print(\"c is 0x\"+c)\n",
        "  print(int(c,16),end=\"\")\n",
        "  \n",
        "  print()\n",
        "  \n",
        "  "
      ],
      "execution_count": 143,
      "outputs": [
        {
          "output_type": "stream",
          "text": [
            "[1, 2, 3]\n",
            "c is 0x05000600\n",
            "83887616\n",
            "c is 0x05010601\n",
            "83953153\n",
            "c is 0x05020602\n",
            "84018690\n",
            "c is 0x05030603\n",
            "84084227\n",
            "c is 0x05040604\n",
            "84149764\n",
            "c is 0x05050605\n",
            "84215301\n",
            "c is 0x05060606\n",
            "84280838\n",
            "c is 0x05070607\n",
            "84346375\n",
            "c is 0x05080608\n",
            "84411912\n",
            "c is 0x05090609\n",
            "84477449\n",
            "c is 0x050a060a\n",
            "84542986\n",
            "c is 0x050b060b\n",
            "84608523\n",
            "c is 0x050c060c\n",
            "84674060\n",
            "c is 0x050d060d\n",
            "84739597\n",
            "Last\n",
            "c is 0x050e060e\n",
            "84805134\n"
          ],
          "name": "stdout"
        }
      ]
    }
  ]
}